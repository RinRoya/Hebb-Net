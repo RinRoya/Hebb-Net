{
 "cells": [
  {
   "cell_type": "markdown",
   "metadata": {},
   "source": [
    "# Hebb Net"
   ]
  },
  {
   "cell_type": "markdown",
   "metadata": {},
   "source": [
    "## Algoritma\n",
    "---\n",
    "\n",
    "_**Step 0**_ Inisialisasi semua bobot <br>\n",
    "$\\hspace{1.1cm}$ $w_i=0$ <br>\n",
    "_**Step 1**_ Untuk setiap pasangan vektor input dan target output, $s:t$, kerjakan _Step 2-4_ <br>\n",
    "$\\hspace{1.1cm}$_**Step 2**_ Set aktivasi unit input <br>\n",
    "$\\hspace{2.3cm}$ $x_i=s_i$ <br>\n",
    "$\\hspace{1.1cm}$_**Step 3**_ Set aktivasi unit input <br>\n",
    "$\\hspace{2.3cm}$ $y=t$ <br>\n",
    "$\\hspace{1.1cm}$_**Step 4**_ Perbarui bobot dan bias <br>\n",
    "$\\hspace{2.3cm}$ $w_i(baru)=w_i(lama)+x_iy,$ <br>\n",
    "$\\hspace{2.3cm}$ $b(baru)=b(lama)+y$ <br>\n",
    "\n",
    "---"
   ]
  },
  {
   "cell_type": "markdown",
   "metadata": {},
   "source": [
    "## Impementasi Algoritma"
   ]
  },
  {
   "cell_type": "markdown",
   "metadata": {},
   "source": [
    "##### 1. Mengimport library"
   ]
  },
  {
   "cell_type": "code",
   "execution_count": 1,
   "metadata": {},
   "outputs": [],
   "source": [
    "import numpy as np\n",
    "import matplotlib.pyplot as plt\n",
    "import seaborn as sns"
   ]
  },
  {
   "cell_type": "markdown",
   "metadata": {},
   "source": [
    "##### 2. Algoritma Hebb Net"
   ]
  },
  {
   "cell_type": "code",
   "execution_count": 2,
   "metadata": {},
   "outputs": [],
   "source": [
    "def HebbNet(s,t):\n",
    "    # Step 0\n",
    "    w = np.zeros(s.shape[1])\n",
    "    b = 0\n",
    "    # Step 1\n",
    "    for i in range(s.shape[0]):\n",
    "        # Step 2\n",
    "        x = s[i,:]\n",
    "        # Step 3\n",
    "        y = t[i]\n",
    "        # Step 4\n",
    "        w += x*y\n",
    "        b += y\n",
    "    return w,b"
   ]
  },
  {
   "cell_type": "markdown",
   "metadata": {},
   "source": [
    "##### 3. Ploting garis batas keputusan"
   ]
  },
  {
   "cell_type": "code",
   "execution_count": 3,
   "metadata": {},
   "outputs": [],
   "source": [
    "def PlotHebbNet(x_unit,target,weight,bias,title=\"\"):\n",
    "    # Plot titik\n",
    "    color = {-1:\"r\",1:\"b\"}\n",
    "    sns.scatterplot(x_unit[:,0],x_unit[:,1],hue=target,s=200,legend=\"full\",palette=color)\n",
    "    \n",
    "    # Plot sumbu-x dan sumbu-y\n",
    "    plt.hlines(0,-2,2)\n",
    "    plt.vlines(0,-2,2)\n",
    "    \n",
    "    # Plot persamaan garis\n",
    "    x = np.array([-2,2])\n",
    "    m = -weight[0]/weight[1]\n",
    "    n = -bias/weight[1]\n",
    "    y = m*x + n\n",
    "    plt.plot(x,y,\"g-\")\n",
    "    \n",
    "    plt.title(\"Hebb Net \"+title)\n",
    "    plt.legend(title=\"Target\")\n",
    "    plt.xlim([-2,2])\n",
    "    plt.ylim([-2,2])\n",
    "    plt.xticks([])\n",
    "    plt.yticks([])"
   ]
  },
  {
   "cell_type": "markdown",
   "metadata": {},
   "source": [
    "## Contoh Soal"
   ]
  },
  {
   "cell_type": "markdown",
   "metadata": {},
   "source": [
    "### Contoh 1: Metode Hebb Net untuk input bipolar dan target bipolar menggunakan fungsi logika AND"
   ]
  },
  {
   "cell_type": "markdown",
   "metadata": {},
   "source": [
    "Untuk input bipolar dan target bipolar menggunakan fungsi logika AND menghasilkan tabel berikut ini \n",
    "\n",
    "$$\\begin{align*}\n",
    "\\text{Input}&&\\text{Target}\\\\\n",
    "1\\hspace{0.5cm}1&&1\\hspace{0.38cm}\\\\\n",
    "1\\hspace{0.35cm}\\text{-}1&&\\text{-}1\\hspace{0.38cm}\\\\\n",
    "\\text{-}1\\hspace{0.5cm}1&&\\text{-}1\\hspace{0.38cm}\\\\\n",
    "\\text{-}1\\hspace{0.35cm}\\text{-}1&&\\text{-}1\\hspace{0.38cm}\\\\\n",
    "\\end{align*}\n",
    "$$"
   ]
  },
  {
   "cell_type": "markdown",
   "metadata": {},
   "source": [
    "##### Implementasi algoritma Hebb Net"
   ]
  },
  {
   "cell_type": "code",
   "execution_count": 4,
   "metadata": {},
   "outputs": [],
   "source": [
    "# Input\n",
    "x1 = np.array([[1,1],\n",
    "                [1,-1],\n",
    "                [-1,1],\n",
    "                [-1,-1]])\n",
    "# Target\n",
    "t1 = np.array([1,-1,-1,-1])\n",
    "\n",
    "# Perhitungan bobot dan bias dengan metode hebb net\n",
    "w1,b1 = HebbNet(x1,t1)"
   ]
  },
  {
   "cell_type": "markdown",
   "metadata": {},
   "source": [
    "##### Visualisasi garis batas keputusan untuk input"
   ]
  },
  {
   "cell_type": "code",
   "execution_count": 5,
   "metadata": {},
   "outputs": [
    {
     "data": {
      "image/png": "[encoded data removed]",
      "text/plain": [
       "<Figure size 432x288 with 1 Axes>"
      ]
     },
     "metadata": {},
     "output_type": "display_data"
    }
   ],
   "source": [
    "PlotHebbNet(x1,t1,w1,b1,title=\"AND\")"
   ]
  },
  {
   "cell_type": "markdown",
   "metadata": {},
   "source": [
    "### Contoh 2: Metode HebbNet untuk input bipolar dan target bipolar menggunakan fungsi logika OR"
   ]
  },
  {
   "cell_type": "markdown",
   "metadata": {},
   "source": [
    "Untuk input bipolar dan target bipolar menggunakan fungsi logika OR menghasilkan tabel berikut ini \n",
    "\n",
    "$$\\begin{align*}\n",
    "\\text{Input}&&\\text{Target}\\\\\n",
    "1\\hspace{0.5cm}1&&1\\hspace{0.38cm}\\\\\n",
    "1\\hspace{0.35cm}\\text{-}1&&1\\hspace{0.38cm}\\\\\n",
    "\\text{-}1\\hspace{0.5cm}1&&1\\hspace{0.38cm}\\\\\n",
    "\\text{-}1\\hspace{0.35cm}\\text{-}1&&\\text{-}1\\hspace{0.38cm}\\\\\n",
    "\\end{align*}\n",
    "$$"
   ]
  },
  {
   "cell_type": "markdown",
   "metadata": {},
   "source": [
    "##### Implementasi algoritma Hebb Net"
   ]
  },
  {
   "cell_type": "code",
   "execution_count": 6,
   "metadata": {},
   "outputs": [],
   "source": [
    "# Input\n",
    "x2 = np.array([[1,1],\n",
    "                [1,-1],\n",
    "                [-1,1],\n",
    "                [-1,-1]])\n",
    "# Target\n",
    "t2 = np.array([1,1,1,-1])\n",
    "\n",
    "# Perhitungan bobot dan bias dengan metode hebb net\n",
    "w2,b2 = HebbNet(x2,t2)"
   ]
  },
  {
   "cell_type": "markdown",
   "metadata": {},
   "source": [
    "##### Visualisasi garis batas keputusan untuk input"
   ]
  },
  {
   "cell_type": "code",
   "execution_count": 7,
   "metadata": {},
   "outputs": [
    {
     "data": {
      "image/png": "[encoded data removed]",
      "text/plain": [
       "<Figure size 432x288 with 1 Axes>"
      ]
     },
     "metadata": {},
     "output_type": "display_data"
    }
   ],
   "source": [
    "PlotHebbNet(x2,t2,w2,b2,title=\"OR\")"
   ]
  },
  {
   "cell_type": "markdown",
   "metadata": {},
   "source": [
    "### Catatan:\n",
    "Metode Hebb Net tidak bisa digunakan untuk logika XOR dan XNOR"
   ]
  },
  {
   "cell_type": "markdown",
   "metadata": {},
   "source": [
    "## Daftar Pustaka"
   ]
  },
  {
   "cell_type": "markdown",
   "metadata": {},
   "source": [
    "[1] $\\hspace{0.5cm}$ L. Fausett, _Fundamentals of Neural Networks_. Prentice Hall, 1994"
   ]
  }
 ],
 "metadata": {
  "kernelspec": {
   "display_name": "Python 3",
   "language": "python",
   "name": "python3"
  },
  "language_info": {
   "codemirror_mode": {
    "name": "ipython",
    "version": 3
   },
   "file_extension": ".py",
   "mimetype": "text/x-python",
   "name": "python",
   "nbconvert_exporter": "python",
   "pygments_lexer": "ipython3",
   "version": "3.7.0"
  }
 },
 "nbformat": 4,
 "nbformat_minor": 2
}
